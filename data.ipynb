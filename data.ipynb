{
 "cells": [
  {
   "cell_type": "code",
   "execution_count": 2,
   "metadata": {},
   "outputs": [
    {
     "name": "stderr",
     "output_type": "stream",
     "text": [
      "d:\\envs\\DLL13\\lib\\site-packages\\tqdm\\auto.py:21: TqdmWarning: IProgress not found. Please update jupyter and ipywidgets. See https://ipywidgets.readthedocs.io/en/stable/user_install.html\n",
      "  from .autonotebook import tqdm as notebook_tqdm\n"
     ]
    },
    {
     "name": "stdout",
     "output_type": "stream",
     "text": [
      "DatasetDict({\n",
      "    train: Dataset({\n",
      "        features: ['audio', 'filepath', 'start_time', 'end_time', 'low_freq', 'high_freq', 'ebird_code', 'ebird_code_multilabel', 'ebird_code_secondary', 'call_type', 'sex', 'lat', 'long', 'length', 'microphone', 'license', 'source', 'local_time', 'detected_events', 'event_cluster', 'peaks', 'quality', 'recordist'],\n",
      "        num_rows: 3626\n",
      "    })\n",
      "    test: Dataset({\n",
      "        features: ['audio', 'filepath', 'start_time', 'end_time', 'low_freq', 'high_freq', 'ebird_code', 'ebird_code_multilabel', 'ebird_code_secondary', 'call_type', 'sex', 'lat', 'long', 'length', 'microphone', 'license', 'source', 'local_time', 'detected_events', 'event_cluster', 'peaks', 'quality', 'recordist'],\n",
      "        num_rows: 59583\n",
      "    })\n",
      "    test_5s: Dataset({\n",
      "        features: ['audio', 'filepath', 'start_time', 'end_time', 'low_freq', 'high_freq', 'ebird_code', 'ebird_code_multilabel', 'ebird_code_secondary', 'call_type', 'sex', 'lat', 'long', 'length', 'microphone', 'license', 'source', 'local_time', 'detected_events', 'event_cluster', 'peaks', 'quality', 'recordist'],\n",
      "        num_rows: 36637\n",
      "    })\n",
      "})\n"
     ]
    }
   ],
   "source": [
    "from datasets import load_dataset\n",
    "\n",
    "dataset = load_dataset(\"DBD-research-group/BirdSet\", \"UHH\", trust_remote_code=True)\n",
    "print(dataset)"
   ]
  },
  {
   "cell_type": "code",
   "execution_count": 3,
   "metadata": {},
   "outputs": [
    {
     "name": "stdout",
     "output_type": "stream",
     "text": [
      "Dataset({\n",
      "    features: ['audio', 'filepath', 'start_time', 'end_time', 'low_freq', 'high_freq', 'ebird_code', 'ebird_code_multilabel', 'ebird_code_secondary', 'call_type', 'sex', 'lat', 'long', 'length', 'microphone', 'license', 'source', 'local_time', 'detected_events', 'event_cluster', 'peaks', 'quality', 'recordist'],\n",
      "    num_rows: 3626\n",
      "})\n"
     ]
    }
   ],
   "source": [
    "print(dataset[\"train\"])"
   ]
  },
  {
   "cell_type": "code",
   "execution_count": 6,
   "metadata": {},
   "outputs": [
    {
     "name": "stdout",
     "output_type": "stream",
     "text": [
      "{'audio': {'bytes': None, 'path': 'C:\\\\Users\\\\ben-g\\\\.cache\\\\huggingface\\\\datasets\\\\downloads\\\\extracted\\\\a0cf2491e262c89d3a6fd3e5a4350e25710a1af386c47643f672b5bb409b1539\\\\XC503262.ogg'}, 'filepath': 'C:\\\\Users\\\\ben-g\\\\.cache\\\\huggingface\\\\datasets\\\\downloads\\\\extracted\\\\a0cf2491e262c89d3a6fd3e5a4350e25710a1af386c47643f672b5bb409b1539\\\\XC503262.ogg', 'start_time': None, 'end_time': None, 'low_freq': None, 'high_freq': None, 'ebird_code': 0, 'ebird_code_multilabel': [0], 'ebird_code_secondary': ['hawduc'], 'call_type': 'call', 'sex': None, 'lat': 22.2029, 'long': -159.473, 'length': 16, 'microphone': 'focal', 'license': '//creativecommons.org/licenses/by-nc-sa/4.0/', 'source': 'xenocanto', 'local_time': '12:49', 'detected_events': [[0.832, 2.48], [2.992, 4.016], [3.2, 3.904], [5.472, 6.048], [5.488, 6.432], [7.088, 8.16], [8.944, 10.432], [10.72, 12.672], [11.152, 13.2], [13.488, 14.0], [14.64, 16.496]], 'event_cluster': [1, 0, 0, 1, 1, 1, 1, 1, 1, 1, 1], 'peaks': [3.4412877608699555, 5.783323441969825, 10.80186418698112, 11.172458638140816, 12.146991731944265, 13.857682468548028, 14.136682996413258], 'quality': 'A', 'recordist': 'Phoenix Birder'}\n",
      "{'audio': {'bytes': None, 'path': 'C:\\\\Users\\\\ben-g\\\\.cache\\\\huggingface\\\\datasets\\\\downloads\\\\extracted\\\\a0cf2491e262c89d3a6fd3e5a4350e25710a1af386c47643f672b5bb409b1539\\\\XC314510.ogg'}, 'filepath': 'C:\\\\Users\\\\ben-g\\\\.cache\\\\huggingface\\\\datasets\\\\downloads\\\\extracted\\\\a0cf2491e262c89d3a6fd3e5a4350e25710a1af386c47643f672b5bb409b1539\\\\XC314510.ogg', 'start_time': None, 'end_time': None, 'low_freq': None, 'high_freq': None, 'ebird_code': 0, 'ebird_code_multilabel': [0], 'ebird_code_secondary': [], 'call_type': 'call', 'sex': None, 'lat': 22.2312, 'long': -159.4017, 'length': 33, 'microphone': 'focal', 'license': '//creativecommons.org/licenses/by-nc-sa/4.0/', 'source': 'xenocanto', 'local_time': '17:30', 'detected_events': [[0.016, 1.632], [0.224, 1.088], [2.144, 2.736], [2.144, 3.76], [3.136, 3.744], [3.168, 3.696], [4.416, 5.68], [6.96, 8.784], [10.096, 13.008], [17.776, 19.696], [20.848, 22.384], [25.024, 25.872], [26.752, 27.728], [29.792, 31.488]], 'event_cluster': [0, -1, 1, 0, 1, 1, 0, 0, 0, 0, 0, -1, 0, 0], 'peaks': [5.641255231449626], 'quality': 'A', 'recordist': 'Bobby Wilcox'}\n",
      "{'audio': {'bytes': None, 'path': 'C:\\\\Users\\\\ben-g\\\\.cache\\\\huggingface\\\\datasets\\\\downloads\\\\extracted\\\\a0cf2491e262c89d3a6fd3e5a4350e25710a1af386c47643f672b5bb409b1539\\\\XC314509.ogg'}, 'filepath': 'C:\\\\Users\\\\ben-g\\\\.cache\\\\huggingface\\\\datasets\\\\downloads\\\\extracted\\\\a0cf2491e262c89d3a6fd3e5a4350e25710a1af386c47643f672b5bb409b1539\\\\XC314509.ogg', 'start_time': None, 'end_time': None, 'low_freq': None, 'high_freq': None, 'ebird_code': 0, 'ebird_code_multilabel': [0], 'ebird_code_secondary': [], 'call_type': 'call', 'sex': None, 'lat': 22.2312, 'long': -159.4017, 'length': 9, 'microphone': 'focal', 'license': '//creativecommons.org/licenses/by-nc-sa/4.0/', 'source': 'xenocanto', 'local_time': '17:30', 'detected_events': [[0.016, 0.928], [2.16, 3.008], [4.72, 5.472]], 'event_cluster': [0, 0, 0], 'peaks': [0.12037541740206871], 'quality': 'A', 'recordist': 'Bobby Wilcox'}\n",
      "{'audio': {'bytes': None, 'path': 'C:\\\\Users\\\\ben-g\\\\.cache\\\\huggingface\\\\datasets\\\\downloads\\\\extracted\\\\a0cf2491e262c89d3a6fd3e5a4350e25710a1af386c47643f672b5bb409b1539\\\\XC210217.ogg'}, 'filepath': 'C:\\\\Users\\\\ben-g\\\\.cache\\\\huggingface\\\\datasets\\\\downloads\\\\extracted\\\\a0cf2491e262c89d3a6fd3e5a4350e25710a1af386c47643f672b5bb409b1539\\\\XC210217.ogg', 'start_time': None, 'end_time': None, 'low_freq': None, 'high_freq': None, 'ebird_code': 0, 'ebird_code_multilabel': [0], 'ebird_code_secondary': [], 'call_type': 'call', 'sex': None, 'lat': 22.2094, 'long': -159.4754, 'length': 10, 'microphone': 'focal', 'license': '//creativecommons.org/licenses/by-nc-sa/4.0/', 'source': 'xenocanto', 'local_time': '10:30', 'detected_events': [[1.312, 1.984], [1.552, 2.336], [2.896, 3.504], [4.448, 5.152], [7.152, 7.872]], 'event_cluster': [0, 0, -1, -1, -1], 'peaks': [1.7672866994922942, 3.2713225872412135], 'quality': 'A', 'recordist': 'Ross Gallardy'}\n",
      "{'audio': {'bytes': None, 'path': 'C:\\\\Users\\\\ben-g\\\\.cache\\\\huggingface\\\\datasets\\\\downloads\\\\extracted\\\\a0cf2491e262c89d3a6fd3e5a4350e25710a1af386c47643f672b5bb409b1539\\\\XC314511.ogg'}, 'filepath': 'C:\\\\Users\\\\ben-g\\\\.cache\\\\huggingface\\\\datasets\\\\downloads\\\\extracted\\\\a0cf2491e262c89d3a6fd3e5a4350e25710a1af386c47643f672b5bb409b1539\\\\XC314511.ogg', 'start_time': None, 'end_time': None, 'low_freq': None, 'high_freq': None, 'ebird_code': 0, 'ebird_code_multilabel': [0], 'ebird_code_secondary': [], 'call_type': 'call', 'sex': None, 'lat': 22.2312, 'long': -159.4017, 'length': 40, 'microphone': 'focal', 'license': '//creativecommons.org/licenses/by-nc-sa/4.0/', 'source': 'xenocanto', 'local_time': '17:30', 'detected_events': [[7.392, 8.192], [9.536, 10.208], [11.04, 11.552], [14.016, 14.56], [16.352, 17.888], [20.384, 30.384], [30.992, 32.928], [33.536, 35.952], [36.88, 38.656]], 'event_cluster': [-1, 1, 1, 1, 0, -1, 0, 0, 0], 'peaks': [21.192953899026488, 21.692298035417064, 23.369924333557865, 23.880268478460206, 26.369457904585442], 'quality': 'B', 'recordist': 'Bobby Wilcox'}\n",
      "{'audio': {'bytes': None, 'path': 'C:\\\\Users\\\\ben-g\\\\.cache\\\\huggingface\\\\datasets\\\\downloads\\\\extracted\\\\a0cf2491e262c89d3a6fd3e5a4350e25710a1af386c47643f672b5bb409b1539\\\\XC613768.ogg'}, 'filepath': 'C:\\\\Users\\\\ben-g\\\\.cache\\\\huggingface\\\\datasets\\\\downloads\\\\extracted\\\\a0cf2491e262c89d3a6fd3e5a4350e25710a1af386c47643f672b5bb409b1539\\\\XC613768.ogg', 'start_time': None, 'end_time': None, 'low_freq': None, 'high_freq': None, 'ebird_code': 0, 'ebird_code_multilabel': [0], 'ebird_code_secondary': [], 'call_type': 'flight call', 'sex': None, 'lat': 47.5118, 'long': 9.6569, 'length': 12, 'microphone': 'focal', 'license': '//creativecommons.org/licenses/by-nc-sa/4.0/', 'source': 'xenocanto', 'local_time': '10:00', 'detected_events': [[7.616, 8.288], [10.288, 10.8]], 'event_cluster': [-1, -1], 'peaks': [2.2095994838727884, 2.566256659392046, 2.832476100226932], 'quality': 'C', 'recordist': 'Georg Amann'}\n",
      "{'audio': {'bytes': None, 'path': 'C:\\\\Users\\\\ben-g\\\\.cache\\\\huggingface\\\\datasets\\\\downloads\\\\extracted\\\\a0cf2491e262c89d3a6fd3e5a4350e25710a1af386c47643f672b5bb409b1539\\\\XC326899.ogg'}, 'filepath': 'C:\\\\Users\\\\ben-g\\\\.cache\\\\huggingface\\\\datasets\\\\downloads\\\\extracted\\\\a0cf2491e262c89d3a6fd3e5a4350e25710a1af386c47643f672b5bb409b1539\\\\XC326899.ogg', 'start_time': None, 'end_time': None, 'low_freq': None, 'high_freq': None, 'ebird_code': 0, 'ebird_code_multilabel': [0], 'ebird_code_secondary': [], 'call_type': 'call', 'sex': None, 'lat': 20.769, 'long': -156.237, 'length': 52, 'microphone': 'focal', 'license': '//creativecommons.org/licenses/by-nc-sa/4.0/', 'source': 'xenocanto', 'local_time': '08:01', 'detected_events': [[11.792, 13.232], [23.744, 24.304]], 'event_cluster': [-1, -1], 'peaks': [], 'quality': 'C', 'recordist': 'Thomas G. Graves'}\n",
      "{'audio': {'bytes': None, 'path': 'C:\\\\Users\\\\ben-g\\\\.cache\\\\huggingface\\\\datasets\\\\downloads\\\\extracted\\\\a0cf2491e262c89d3a6fd3e5a4350e25710a1af386c47643f672b5bb409b1539\\\\XC252701.ogg'}, 'filepath': 'C:\\\\Users\\\\ben-g\\\\.cache\\\\huggingface\\\\datasets\\\\downloads\\\\extracted\\\\a0cf2491e262c89d3a6fd3e5a4350e25710a1af386c47643f672b5bb409b1539\\\\XC252701.ogg', 'start_time': None, 'end_time': None, 'low_freq': None, 'high_freq': None, 'ebird_code': 0, 'ebird_code_multilabel': [0], 'ebird_code_secondary': [], 'call_type': 'flight call', 'sex': None, 'lat': 19.6725, 'long': -155.3876, 'length': 9, 'microphone': 'focal', 'license': '//creativecommons.org/licenses/by-nc-sa/4.0/', 'source': 'xenocanto', 'local_time': '07:00', 'detected_events': [], 'event_cluster': [], 'peaks': [0.34031362063231246, 0.6460021272462041, 1.1273162121845766, 1.2760979521139098, 1.4270984493494776, 2.4813831710457426, 3.5370741473727194, 4.806703328185354, 5.28923616713701, 5.44820544061328, 5.650049855274814, 5.789519064538543, 5.970113409224873, 6.31855205661241, 8.137339295769547, 8.381308849146633, 8.552653163373169, 8.728872493652839, 8.851466647348023, 9.375374622545518], 'quality': 'C', 'recordist': 'Todd Mark'}\n",
      "{'audio': {'bytes': None, 'path': 'C:\\\\Users\\\\ben-g\\\\.cache\\\\huggingface\\\\datasets\\\\downloads\\\\extracted\\\\a0cf2491e262c89d3a6fd3e5a4350e25710a1af386c47643f672b5bb409b1539\\\\XC210216.ogg'}, 'filepath': 'C:\\\\Users\\\\ben-g\\\\.cache\\\\huggingface\\\\datasets\\\\downloads\\\\extracted\\\\a0cf2491e262c89d3a6fd3e5a4350e25710a1af386c47643f672b5bb409b1539\\\\XC210216.ogg', 'start_time': None, 'end_time': None, 'low_freq': None, 'high_freq': None, 'ebird_code': 0, 'ebird_code_multilabel': [0], 'ebird_code_secondary': ['bknsti'], 'call_type': 'call', 'sex': None, 'lat': 22.0385, 'long': -159.7803, 'length': 40, 'microphone': 'focal', 'license': '//creativecommons.org/licenses/by-nc-sa/4.0/', 'source': 'xenocanto', 'local_time': '16:30', 'detected_events': [[15.632, 34.88], [35.952, 36.576], [36.224, 37.472]], 'event_cluster': [-1, 0, 0], 'peaks': [21.6767667768652, 22.103079606812603, 22.31351726968211, 22.53517369123444, 22.743298852314172, 23.868205972942867], 'quality': 'C', 'recordist': 'Ross Gallardy'}\n",
      "{'audio': {'bytes': None, 'path': 'C:\\\\Users\\\\ben-g\\\\.cache\\\\huggingface\\\\datasets\\\\downloads\\\\extracted\\\\a0cf2491e262c89d3a6fd3e5a4350e25710a1af386c47643f672b5bb409b1539\\\\XC725969.ogg'}, 'filepath': 'C:\\\\Users\\\\ben-g\\\\.cache\\\\huggingface\\\\datasets\\\\downloads\\\\extracted\\\\a0cf2491e262c89d3a6fd3e5a4350e25710a1af386c47643f672b5bb409b1539\\\\XC725969.ogg', 'start_time': None, 'end_time': None, 'low_freq': None, 'high_freq': None, 'ebird_code': 1, 'ebird_code_multilabel': [1], 'ebird_code_secondary': ['daejun', 'houfin', 'whcspa', 'calqua'], 'call_type': 'call', 'sex': 'male', 'lat': 35.3217, 'long': -120.842, 'length': 193, 'microphone': 'focal', 'license': '//creativecommons.org/licenses/by-nc-sa/4.0/', 'source': 'xenocanto', 'local_time': '11:19', 'detected_events': [[0.64, 12.592], [12.624, 22.64], [23.152, 34.16], [30.672, 31.296], [34.656, 36.608], [36.976, 37.968], [38.576, 40.864], [41.392, 58.256], [58.432, 77.216], [66.464, 67.104], [78.112, 78.672], [79.152, 84.72], [85.12, 85.632], [86.032, 86.704], [87.2, 89.232], [90.704, 92.048], [92.368, 95.152], [96.544, 99.008], [99.408, 100.224], [101.376, 104.016], [104.896, 106.272], [106.864, 107.888], [109.056, 109.84], [110.256, 113.696], [113.968, 114.944], [115.312, 116.32], [117.296, 118.496], [119.232, 120.704], [120.656, 121.536], [122.896, 125.152], [127.456, 129.616], [130.128, 130.8], [131.536, 133.952], [134.832, 139.408], [140.336, 141.312], [141.728, 142.24], [143.104, 143.664], [143.792, 153.664], [154.144, 158.352], [158.256, 160.016], [160.336, 161.648], [162.592, 163.344], [164.208, 165.376], [165.456, 166.864], [167.104, 173.776], [172.048, 172.56], [175.136, 180.368], [177.184, 178.144], [180.56, 183.824], [181.904, 182.48], [184.56, 186.384], [187.616, 191.984], [190.976, 191.808]], 'event_cluster': [-1, 0, 0, -1, 0, 0, 0, -1, -1, -1, 0, 0, 0, 0, -1, 0, 0, 0, 0, 0, 0, 0, -1, 0, 0, 0, 0, 0, 0, 0, 0, 0, 0, -1, 0, 0, 0, 0, 0, 0, 0, 0, 0, 0, 0, -1, 0, -1, 0, -1, 0, 0, -1], 'peaks': [], 'quality': 'A', 'recordist': 'Thomas G. Graves'}\n"
     ]
    }
   ],
   "source": [
    "for i in range(10):\n",
    "    print(dataset[\"train\"][i])"
   ]
  }
 ],
 "metadata": {
  "kernelspec": {
   "display_name": "DLL13",
   "language": "python",
   "name": "python3"
  },
  "language_info": {
   "codemirror_mode": {
    "name": "ipython",
    "version": 3
   },
   "file_extension": ".py",
   "mimetype": "text/x-python",
   "name": "python",
   "nbconvert_exporter": "python",
   "pygments_lexer": "ipython3",
   "version": "3.9.19"
  }
 },
 "nbformat": 4,
 "nbformat_minor": 2
}
