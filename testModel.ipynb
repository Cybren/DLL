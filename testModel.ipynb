{
 "cells": [
  {
   "cell_type": "code",
   "execution_count": null,
   "metadata": {},
   "outputs": [],
   "source": [
    "from birdset.datamodule import DatasetConfig\n",
    "from birdset.datamodule.birdset_datamodule import BirdSetDataModule\n",
    "from birdset.datamodule.components.transforms import BirdSetTransformsWrapper\n",
    "from transformers import Wav2Vec2Model, HubertModel, Trainer\n",
    "import torch\n",
    "from torchmetrics import Accuracy, Precision\n",
    "import time\n",
    "import fairseq\n",
    "from tqdm import tqdm\n",
    "import lightning as lt\n",
    "from huggingface_hub import PyTorchModelHubMixin\n",
    "from lightning.pytorch.loggers import TensorBoardLogger\n",
    "from torchmetrics.classification.average_precision import AveragePrecision\n",
    "from torchmetrics.classification.auroc import AUROC\n",
    "from sklearn.metrics import average_precision_score\n",
    "import time, os"
   ]
  },
  {
   "cell_type": "code",
   "execution_count": null,
   "metadata": {},
   "outputs": [],
   "source": [
    "model_name_base = \"facebook/hubert-base-ls960\"\n",
    "model_name_large = \"facebook/hubert-large-ll60k\"\n",
    "model_name = model_name_large\n",
    "basemodel = Wav2Vec2Model.from_pretrained(model_name, torch_dtype=torch.float16, attn_implementation=None)"
   ]
  },
  {
   "cell_type": "code",
   "execution_count": null,
   "metadata": {},
   "outputs": [],
   "source": [
    "from Model import Modelwrapper\n",
    "\n",
    "model = Modelwrapper.load_model(\"D:\\\\Documents\\\\Uni\\DLL\\\\Code\\models\\\\Modelwrapper06-10-2024-21-00-09_large50.pt\", basemodel)"
   ]
  },
  {
   "cell_type": "code",
   "execution_count": null,
   "metadata": {},
   "outputs": [],
   "source": [
    "transforms = BirdSetTransformsWrapper(\n",
    "        task=\"multilabel\",\n",
    "        sampling_rate = 16000,\n",
    "        model_type = 'waveform',\n",
    "    )\n",
    "\n",
    "dataset_name = \"HSN\"\n",
    "dm = BirdSetDataModule(\n",
    "    dataset= DatasetConfig(\n",
    "        data_dir='B:\\DLL\\Datasets',\n",
    "        dataset_name= \"\",\n",
    "        hf_path='DBD-research-group/BirdSet',\n",
    "        hf_name=dataset_name,\n",
    "        n_workers=8,\n",
    "        val_split=0.2,\n",
    "        task=\"multilabel\",\n",
    "        classlimit=500,\n",
    "        eventlimit=1,\n",
    "        sampling_rate=16000,\n",
    "    ),\n",
    "    transforms=transforms\n",
    ")\n",
    "\n",
    "dm.prepare_data()\n",
    "dm.setup(stage=\"test\")\n",
    "test_dataloader = dm.test_dataloader()\n",
    "print(type(test_dataloader.dataset))\n",
    "print(test_dataloader.dataset)\n",
    "print(type(test_dataloader))"
   ]
  },
  {
   "cell_type": "code",
   "execution_count": null,
   "metadata": {},
   "outputs": [],
   "source": [
    "batch = next(iter(test_dataloader))\n",
    "print(batch[\"input_values\"])"
   ]
  },
  {
   "cell_type": "code",
   "execution_count": null,
   "metadata": {},
   "outputs": [],
   "source": [
    "print(model.get_proba_sigmoid(batch))\n",
    "print(batch[\"labels\"])"
   ]
  }
 ],
 "metadata": {
  "kernelspec": {
   "display_name": "birdset",
   "language": "python",
   "name": "python3"
  },
  "language_info": {
   "codemirror_mode": {
    "name": "ipython",
    "version": 3
   },
   "file_extension": ".py",
   "mimetype": "text/x-python",
   "name": "python",
   "nbconvert_exporter": "python",
   "pygments_lexer": "ipython3",
   "version": "3.10.0"
  }
 },
 "nbformat": 4,
 "nbformat_minor": 2
}
